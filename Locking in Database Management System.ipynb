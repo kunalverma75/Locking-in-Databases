{
 "cells": [
  {
   "cell_type": "markdown",
   "metadata": {},
   "source": [
    "# Locking in DBMS\n",
    "####  - Kunal Verma"
   ]
  },
  {
   "cell_type": "markdown",
   "metadata": {},
   "source": [
    "![title](locks.png)"
   ]
  },
  {
   "cell_type": "markdown",
   "metadata": {},
   "source": [
    "Locking in databases is an evolving and complicated topic. This article tries to cover the nature of locking in databases and it's variation between different platforms. We will try to look at ways to avoid certain issues that arises in different applications. "
   ]
  },
  {
   "cell_type": "markdown",
   "metadata": {},
   "source": [
    "## 1) What is a Lock?\n"
   ]
  },
  {
   "cell_type": "markdown",
   "metadata": {},
   "source": [
    "A database lock is used to “lock” some data in a database so that only one database user/session may update that particular data present in the database. So, database locks exist to prevent two or more database users from updating the same exact piece of data at the same exact time. When data is locked, then that means that another database session cannot update that data until the lock is released. Locks are usually released by either a ROLLBACK or COMMIT SQL statement."
   ]
  },
  {
   "cell_type": "markdown",
   "metadata": {},
   "source": [
    "## How a lock functions"
   ]
  },
  {
   "cell_type": "markdown",
   "metadata": {},
   "source": [
    "Lets take an example to see how locks work in database systems.\n",
    "\n",
    "Suppose database session A tries to update some data that is already locked by database session B. What happens to session A? Well, session A will actually be placed in what’s called a lock wait state, and session A will be stopped from making further progress with any SQL transaction that it’s performing. Another way of saying this is that session A will be “stalled” until session B releases the lock on that data.\n",
    "\n",
    "If a session ends up waiting too long for some locked data, then some databases, like DB2 from IBM, will actually time out after a certain amount of time and return an error instead of waiting and then updating the data as requested.\n",
    "\n",
    "But some databases, like Oracle, may handle the situation differently – Oracle can actually leave a session in a lock wait state for an indefinite amount of time. So, there are a lot of differences between different database vendors in terms of how they choose to deal with locks and other sessions waiting for locks to be released."
   ]
  },
  {
   "cell_type": "markdown",
   "metadata": {},
   "source": [
    "## Why locking?"
   ]
  },
  {
   "cell_type": "markdown",
   "metadata": {},
   "source": [
    "The primary reason for database locks is to prevent the potential loss of data and information within tables or files that could happen when updates are applied concurrently within the database, i.e., at the exact same time. If different database users are authorised to change the database data at the same time then this could result in inconsistency within the database. But if the data were locked this would not be an issue. The locks tries to address this issue efficiently."
   ]
  },
  {
   "cell_type": "markdown",
   "metadata": {},
   "source": [
    "## Different levels of locking"
   ]
  },
  {
   "cell_type": "markdown",
   "metadata": {},
   "source": [
    "![title](level.png)"
   ]
  },
  {
   "cell_type": "markdown",
   "metadata": {},
   "source": [
    "Locks in the database system can be used at different levels according to the design. This is also known as the lock granularity\n",
    "The following are the different levels of locking :"
   ]
  },
  {
   "cell_type": "markdown",
   "metadata": {},
   "source": [
    "### Database level locking"
   ]
  },
  {
   "cell_type": "markdown",
   "metadata": {},
   "source": [
    "In this level of locking, the whole database is locked. This means that only a single database session is able to make changes in the database. This level of locking is not preferred always as it prevents all other users of that database to be restricted in making updates in the database. But this lock is useful in situtations when a large amount of updates are to be made in the database like upgrading to a newer version of software. For example - Oracle actually has an exclusive mode, which is used to allow just one user session use the database – this is an example of a database lock."
   ]
  },
  {
   "cell_type": "markdown",
   "metadata": {},
   "source": [
    "### File level locking"
   ]
  },
  {
   "cell_type": "markdown",
   "metadata": {},
   "source": [
    "In this level of locking, a particular database file is locked. A file could contain a wide variety of information like tables, parts of table or even different parts of different tables. This level of locking is also less favored due to the variation of data stored in the file. "
   ]
  },
  {
   "cell_type": "markdown",
   "metadata": {},
   "source": [
    "### Page level blocking"
   ]
  },
  {
   "cell_type": "markdown",
   "metadata": {},
   "source": [
    "This locking occurs when a page that is a part of a database file is locked.Because the data that can be stored in blocks/pages can be wide and varied, page/block locking is less favored in databases today.\n",
    "\n"
   ]
  },
  {
   "cell_type": "markdown",
   "metadata": {},
   "source": [
    "### Column level locking "
   ]
  },
  {
   "cell_type": "markdown",
   "metadata": {},
   "source": [
    "This means that some columns within a particular row of a table are locked. This locking requires a lot of resources for enabling and releasing the lock. There is very little support for this type of locking in among different database systems"
   ]
  },
  {
   "cell_type": "markdown",
   "metadata": {},
   "source": [
    "### Row level locking"
   ]
  },
  {
   "cell_type": "markdown",
   "metadata": {},
   "source": [
    "This level of lock occurs when a row in a table is locked for updation by a single user. This is one of the most commonly used locking level and almost all database systems support row level locking."
   ]
  },
  {
   "cell_type": "markdown",
   "metadata": {},
   "source": [
    "## How databases use locks"
   ]
  },
  {
   "cell_type": "markdown",
   "metadata": {},
   "source": [
    "When the data inside tables are updated, i.e., changed, added or deleted, locks are used during the operation. A database user while writing the query like a SQL query doesn't have to explicitly mention the use of locks. Most of the relational databases today have \"UPDATE\" clause which usually says that a user wants to update some data in the table. And, because the intent of updating data is declared, it means that a lock will be placed on that data as well.\n",
    "\n",
    "Example:\n",
    "Consider the following SQL query"
   ]
  },
  {
   "cell_type": "markdown",
   "metadata": {},
   "source": [
    "UPDATE xyz_table SET xyz_field = \"SOME_VALUE\" \n",
    "WHERE xyz_column = \"ABC\";"
   ]
  },
  {
   "cell_type": "markdown",
   "metadata": {},
   "source": [
    "This SQL statement would lock the rows with values \"ABC\" for the column \"xyz_column\". The locking of the rows prevents other database user sessions from manipulating the data of the same row(s) at the same time."
   ]
  },
  {
   "cell_type": "markdown",
   "metadata": {},
   "source": [
    "# Locks in Concurrency Control"
   ]
  },
  {
   "cell_type": "markdown",
   "metadata": {},
   "source": [
    "Concurrency control and locking is the mechanism used by DBMSs for the sharing of data. Atomicity, consistency, and isolation are achieved through concurrency control and locking (ACID Properties).\n",
    "\n",
    "When many people may be reading the same data item at the same time, it is usually necessary to ensure that only one application at a time can change a data item. Locking is a way to do this. Because of locking, all changes to a particular data item will be made in the correct order in a transaction. "
   ]
  },
  {
   "cell_type": "markdown",
   "metadata": {},
   "source": [
    "## Lock based protocols for concurrency control"
   ]
  },
  {
   "cell_type": "markdown",
   "metadata": {},
   "source": [
    "In this type of protocol, any transaction cannot read or write data until it acquires an appropriate lock on it. There are two types of lock:"
   ]
  },
  {
   "cell_type": "markdown",
   "metadata": {},
   "source": [
    "### Shared lock"
   ]
  },
  {
   "cell_type": "markdown",
   "metadata": {},
   "source": [
    "In this lock the data item could only be read during the transaction. \n",
    "This is also known as the Read-only lock. This lock can be shared between the transactions because no modification of data is being done during reads."
   ]
  },
  {
   "cell_type": "markdown",
   "metadata": {},
   "source": [
    "### Exclusive locks"
   ]
  },
  {
   "cell_type": "markdown",
   "metadata": {},
   "source": [
    "In this lock setting, the data could be both wriiten as well read by the transaction. This is an exclusive lock and multiple transactions are prohibited from modifying the same data at the exact same time.\n"
   ]
  },
  {
   "cell_type": "markdown",
   "metadata": {},
   "source": [
    "### Lock protocols"
   ]
  },
  {
   "cell_type": "markdown",
   "metadata": {},
   "source": [
    "#### Simplistic lock protocol"
   ]
  },
  {
   "cell_type": "markdown",
   "metadata": {},
   "source": [
    "This is one of the most simple ways of locking the data during a transaction. Simplistic lock protocol allow all the transactions to get the hold of the lock on the data before any operation like insert, delete or update. The lock is released when the transaction is complete."
   ]
  },
  {
   "cell_type": "markdown",
   "metadata": {},
   "source": [
    "#### Pre-claiming lock protocol"
   ]
  },
  {
   "cell_type": "markdown",
   "metadata": {},
   "source": [
    "This protocol evaluates the transaction to list the data on which the lock is required.\n",
    "\n",
    "Request to database system is made for all the locks on those data.\n",
    "The protocol allows the transaction to begin when the all the locks are granted. If that's not the case then the transaction rolls back and waits untill the locks are granted.\n",
    "\n",
    "When the transaction is complete it releases the locks."
   ]
  },
  {
   "cell_type": "markdown",
   "metadata": {},
   "source": [
    "![title](pc_lock.png)"
   ]
  },
  {
   "cell_type": "markdown",
   "metadata": {},
   "source": [
    "#### Two-phase locking (2PL)"
   ]
  },
  {
   "cell_type": "markdown",
   "metadata": {},
   "source": [
    "The execution phase during the transaction is divided into three parts in this protocol.\n",
    "\n",
    "During the first part when the execution starts, this seeks permission for the lock it requires for the transaction. Then in second part, the transaction acquires all the locks and the third phase starts when the first lock is released.\n",
    "\n",
    "In the last step, when there is no demand for new locks, it only releases the acquired locks.\n",
    "\n"
   ]
  },
  {
   "cell_type": "markdown",
   "metadata": {},
   "source": [
    "The phases of 2PL are:\n",
    "\n",
    "Growing Phase: Transaction might acquire a new lock on data item, but could be released.\n",
    "\n",
    "Shrinking phase: Existing lock that are held by the transaction might be released but no new locks are acquired during this phase.\n",
    "\n",
    "    \n"
   ]
  },
  {
   "cell_type": "markdown",
   "metadata": {},
   "source": [
    "![title](2pl.png)"
   ]
  },
  {
   "cell_type": "markdown",
   "metadata": {},
   "source": [
    "#### Strict Two-phase locking (Strict-2PL)"
   ]
  },
  {
   "cell_type": "markdown",
   "metadata": {},
   "source": [
    "In the first phase of this protocol, when all the locks are acquired, transaction starts executing. \n",
    "\n",
    "The Strict Two-phase locking does not immediately releases the lock after being used but instead it waits for the whole transaction to commit and then only it releases all the locks at the same time.\n"
   ]
  },
  {
   "cell_type": "markdown",
   "metadata": {},
   "source": [
    "![title](s2pl.png)"
   ]
  },
  {
   "cell_type": "markdown",
   "metadata": {},
   "source": [
    "## Issues that could occur due to locking"
   ]
  },
  {
   "cell_type": "markdown",
   "metadata": {},
   "source": [
    "There are a bunch of problems that could occur due to database locking. Some of the common database locking issues are the following: "
   ]
  },
  {
   "cell_type": "markdown",
   "metadata": {},
   "source": [
    "### Lock Contention"
   ]
  },
  {
   "cell_type": "markdown",
   "metadata": {},
   "source": [
    "Lock contention happens when a particular lock is required by many database sessions at the same time. This is also known as the \"hot lock\". The locks are however held for a short time. This in turn creates a \"single lane bridge\" situation. When traffic becomes high, this acts as a bottleneck.\n",
    "\n",
    "These type of problems generally have a relatively less impact. As traffic increases, system throughput does not necessarily increase but it may even degrade. This could also lead to high CPU usage."
   ]
  },
  {
   "cell_type": "markdown",
   "metadata": {},
   "source": [
    "![title](lc.png)"
   ]
  },
  {
   "cell_type": "markdown",
   "metadata": {},
   "source": [
    "                     Example of lock contention"
   ]
  },
  {
   "cell_type": "markdown",
   "metadata": {},
   "source": [
    "### Long term Blocking"
   ]
  },
  {
   "cell_type": "markdown",
   "metadata": {},
   "source": [
    "Long Term Blocking involves an object or lock that is frequently accessed by a large number of database sessions. In this case, one session does not release the lock immediately. Instead, the lock is held for a long period of time and while that lock is held, all dependent sessions will be blocked.\n",
    "\n",
    "This could bring an entire area of functionality to stand still. However, these problems can also often lead to further problems as frustrated users re-submit their requests. This can compound and make situations worse by leading to a larger queue and consuming additional resource. In this way, the impact can expand to consume an entire system."
   ]
  },
  {
   "cell_type": "markdown",
   "metadata": {},
   "source": [
    "![title](ltb.png)"
   ]
  },
  {
   "cell_type": "markdown",
   "metadata": {},
   "source": [
    "                         Example of Batch Locking"
   ]
  },
  {
   "cell_type": "markdown",
   "metadata": {},
   "source": [
    "### Database Deadlocks"
   ]
  },
  {
   "cell_type": "markdown",
   "metadata": {},
   "source": [
    "Database Deadlocks occur when 2 or more transactions hold dependent locks and neither can continue until the other releases. This is similar to the concepts of locks in the context of operating systems.\n",
    "\n",
    "However deadlocks can be much more complicated, involving variations in terms of locks, and involving more than 2 sessions."
   ]
  },
  {
   "cell_type": "markdown",
   "metadata": {},
   "source": [
    "Deadlocks generally lead to intermittent errors. They are almost always caused by application logic problems. These generally occur when the application does not access data in a consistent sequence. Deadlocks are also very timing and data dependent, which can make them very hard to reproduce."
   ]
  },
  {
   "cell_type": "markdown",
   "metadata": {},
   "source": [
    "![title](dl.png)"
   ]
  },
  {
   "cell_type": "markdown",
   "metadata": {},
   "source": [
    "### Lock Escalation"
   ]
  },
  {
   "cell_type": "markdown",
   "metadata": {},
   "source": [
    "In database systems like SQL, locks are managed in memory and hence they take up memory resources. Memory resources are required to track the locks. These resources are significant and could hamper the resources available to database. \n",
    "\n",
    "In order to prevent this, database systems could escalate locks to a higher level (the level-concept which we discussed earlier). This will greatly reduce the resources required to maintain that lock and isolation. But this greatly impacts the concurrency part as the more larger piece of data is locked."
   ]
  },
  {
   "cell_type": "markdown",
   "metadata": {},
   "source": [
    "![title](lesc.png)"
   ]
  },
  {
   "cell_type": "code",
   "execution_count": null,
   "metadata": {},
   "outputs": [],
   "source": []
  }
 ],
 "metadata": {
  "kernelspec": {
   "display_name": "Python 3",
   "language": "python",
   "name": "python3"
  },
  "language_info": {
   "codemirror_mode": {
    "name": "ipython",
    "version": 3
   },
   "file_extension": ".py",
   "mimetype": "text/x-python",
   "name": "python",
   "nbconvert_exporter": "python",
   "pygments_lexer": "ipython3",
   "version": "3.7.0"
  }
 },
 "nbformat": 4,
 "nbformat_minor": 2
}
